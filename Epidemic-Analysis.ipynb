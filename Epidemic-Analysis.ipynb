{
 "cells": [
  {
   "cell_type": "markdown",
   "id": "210e8ee8",
   "metadata": {},
   "source": [
    "# Covid Analysis\n",
    "\n",
    "This project uses data from the World Health Organization regarding covid-19 cases. The data was pulled from the WHO website on 5/29/2022 and consists of daily case and death count entries for countries across the globe. Here we will manipulate and analyze the data using pandas to give us answers to basic questions about the global state of covid."
   ]
  },
  {
   "cell_type": "code",
   "execution_count": 1,
   "id": "0ea9fffd",
   "metadata": {},
   "outputs": [
    {
     "name": "stdout",
     "output_type": "stream",
     "text": [
      "  Date_reported Country_code      Country WHO_region  New_cases  \\\n",
      "0    2020-01-03           AF  Afghanistan       EMRO          0   \n",
      "1    2020-01-04           AF  Afghanistan       EMRO          0   \n",
      "2    2020-01-05           AF  Afghanistan       EMRO          0   \n",
      "3    2020-01-06           AF  Afghanistan       EMRO          0   \n",
      "4    2020-01-07           AF  Afghanistan       EMRO          0   \n",
      "\n",
      "   Cumulative_cases  New_deaths  Cumulative_deaths  \n",
      "0                 0           0                  0  \n",
      "1                 0           0                  0  \n",
      "2                 0           0                  0  \n",
      "3                 0           0                  0  \n",
      "4                 0           0                  0  \n"
     ]
    }
   ],
   "source": [
    "## import the pandas dataframe and input the raw data pulled from the WHO website\n",
    "import pandas as pd\n",
    "data = pd.read_csv('who-covid-data.csv')\n",
    "print(data.head(5))"
   ]
  },
  {
   "cell_type": "markdown",
   "id": "2690ffbb",
   "metadata": {},
   "source": [
    "## The Totality of Covid Thus Far\n",
    "\n",
    "We begin by calculating two basic statistics of each country: The total cases and deaths, and the total cases and deaths in the month of 4/27/2022 - 5/27/2022 (the most recent)."
   ]
  },
  {
   "cell_type": "code",
   "execution_count": 2,
   "id": "3e6627b9",
   "metadata": {},
   "outputs": [
    {
     "name": "stdout",
     "output_type": "stream",
     "text": [
      "Top 10 most cases:\n",
      "('United States of America', 82853070)\n",
      "('India', 43147530)\n",
      "('Brazil', 30846602)\n",
      "('France', 28561540)\n",
      "('Germany', 26199643)\n",
      "('The United Kingdom', 22272992)\n",
      "('Russian Federation', 18315292)\n",
      "('Republic of Korea', 18053287)\n",
      "('Italy', 17333299)\n",
      "('Turkey', 15068094)\n",
      "\n",
      "Top 10 most deaths:\n",
      "('United States of America', 996108)\n",
      "('Brazil', 666037)\n",
      "('India', 524539)\n",
      "('Russian Federation', 378784)\n",
      "('Mexico', 324768)\n",
      "('Peru', 213134)\n",
      "('The United Kingdom', 178397)\n",
      "('Italy', 166358)\n",
      "('Indonesia', 156565)\n",
      "('France', 144809)\n"
     ]
    }
   ],
   "source": [
    "# Initialize dictionaries for case/death totals\n",
    "total_cases = {}\n",
    "total_deaths = {}\n",
    "\n",
    "# Filter entries into only the most recent for each country, and pull the cumulative case and death counts\n",
    "data_to_date = data[data['Date_reported'] == '2022-05-27']\n",
    "for _,row in data_to_date.iterrows():\n",
    "    \n",
    "    # Define each country along with its case and death counts\n",
    "    country = row['Country']\n",
    "    c_cases = row['Cumulative_cases']\n",
    "    c_deaths = row['Cumulative_deaths']\n",
    "    \n",
    "    # Input findings into our total case/death dictionaries\n",
    "    total_cases[country] = c_cases\n",
    "    total_deaths[country] = c_deaths\n",
    "    \n",
    "# Sort results in descending order\n",
    "sorted_total_cases = sorted(total_cases.items(), key = lambda kv:(kv[1], kv[0]), reverse = True)\n",
    "sorted_total_deaths = sorted(total_deaths.items(), key = lambda kv:(kv[1], kv[0]), reverse = True)\n",
    "\n",
    "print('Top 10 most cases:')\n",
    "for i in range(0,10):\n",
    "    print(sorted_total_cases[i])\n",
    "    \n",
    "print('\\nTop 10 most deaths:')\n",
    "for i in range(0,10):\n",
    "    print(sorted_total_deaths[i])"
   ]
  },
  {
   "cell_type": "markdown",
   "id": "bd51b893",
   "metadata": {},
   "source": [
    "Above we calculated total case and death numbers. Next, we'll look into more recent numbers."
   ]
  },
  {
   "cell_type": "code",
   "execution_count": 3,
   "id": "27c03b3e",
   "metadata": {},
   "outputs": [
    {
     "name": "stdout",
     "output_type": "stream",
     "text": [
      "Top 10 most cases in the month of 4/27/22 - 5/27/22:\n",
      "('United States of America', 2608357)\n",
      "('Germany', 1879579)\n",
      "('China', 1601266)\n",
      "('Australia', 1578043)\n",
      "('Italy', 1171960)\n",
      "('France', 1050464)\n",
      "('Japan', 1049025)\n",
      "('Republic of Korea', 1043448)\n",
      "('Portugal', 626873)\n",
      "('Brazil', 497139)\n",
      "\n",
      "Top 10 most deaths in the month of 4/27/22 - 5/27/22:\n",
      "('United States of America', 10169)\n",
      "('Italy', 3577)\n",
      "('Russian Federation', 3547)\n",
      "('The United Kingdom', 3489)\n",
      "('Brazil', 3391)\n",
      "('France', 2784)\n",
      "('Thailand', 1891)\n",
      "('Canada', 1854)\n",
      "('Republic of Korea', 1778)\n",
      "('Spain', 1465)\n"
     ]
    }
   ],
   "source": [
    "# Initialize dictionaries for recent case and death counts\n",
    "recent_cases = {}\n",
    "recent_deaths = {}\n",
    "\n",
    "# Filter data into entries from the past month\n",
    "last_month = data[data['Date_reported'] >= '2022-04-27']\n",
    "for _, row in last_month.iterrows():\n",
    "    \n",
    "    # Define country, new cases, and new deaths for each row\n",
    "    country = row['Country']\n",
    "    cases = row['New_cases']\n",
    "    deaths = row['New_deaths']\n",
    "    \n",
    "    # Depending on whether the country has already been entered, \n",
    "    # either enter or add to existing case and death counts for \n",
    "    # each country until we have totals for the month.\n",
    "    if country in recent_cases:    \n",
    "        recent_cases[country] += cases\n",
    "    else: recent_cases[country] = cases\n",
    "    \n",
    "    if country in recent_deaths:    \n",
    "        recent_deaths[country] += deaths\n",
    "    else: recent_deaths[country] = deaths\n",
    "        \n",
    "# Using the same function as earlier, sort the totals in descending order\n",
    "sorted_recent_cases = sorted(recent_cases.items(), key = lambda kv:(kv[1], kv[0]), reverse = True)\n",
    "sorted_recent_deaths = sorted(recent_deaths.items(), key = lambda kv:(kv[1], kv[0]), reverse = True)\n",
    "\n",
    "print('Top 10 most cases in the month of 4/27/22 - 5/27/22:')\n",
    "for i in range(0,10):\n",
    "    print(sorted_recent_cases[i])\n",
    "    \n",
    "print('\\nTop 10 most deaths in the month of 4/27/22 - 5/27/22:')\n",
    "for i in range(0,10):\n",
    "    print(sorted_recent_deaths[i])"
   ]
  },
  {
   "cell_type": "markdown",
   "id": "51669697",
   "metadata": {},
   "source": [
    "## Notes\n",
    "   Both in total and recently it is glaring that the United States has the most covid cases and deaths, and it isn't close. What stands out to me is that after almost a million deaths following covid-19's emergence, the U.S. government continues rolling back safety restrictions, resulting in 2.6 million cases in the last month alone. This is far from just an American issue, however, as the totals below reveal 525 million cases globally and 17.0 million cases in the last month.\n",
    "\n",
    "   Something to also note is that the countries with the most cases are not necessarily the countries with the most deaths. This could be attributed to many things; presence of different strains, healthcare quality, economic struggles, etc."
   ]
  },
  {
   "cell_type": "code",
   "execution_count": 4,
   "id": "cd6658fb",
   "metadata": {},
   "outputs": [
    {
     "name": "stdout",
     "output_type": "stream",
     "text": [
      "Total Cases Worldwide: 525467084\n",
      "Total Deaths Worldwide: 6285171\n",
      "Total Cases Worldwide (past 30 days): 17010699\n",
      "Total Deaths Worldwide (past 30 days): 51569\n"
     ]
    }
   ],
   "source": [
    "# Initialize values for both total and recent data\n",
    "global_cases = 0\n",
    "global_deaths = 0\n",
    "global_cases_r = 0\n",
    "global_deaths_r = 0\n",
    "\n",
    "# For each list of case and death counts, sum them together into separate variables\n",
    "for kv in sorted_total_cases: global_cases += kv[1]\n",
    "for kv in sorted_total_deaths: global_deaths += kv[1]\n",
    "for kv in sorted_recent_cases: global_cases_r += kv[1]\n",
    "for kv in sorted_recent_deaths: global_deaths_r += kv[1]\n",
    "\n",
    "# Display each total\n",
    "print('Total Cases Worldwide: ' + str(global_cases))\n",
    "print('Total Deaths Worldwide: ' + str(global_deaths))\n",
    "print('Total Cases Worldwide (past 30 days): ' + str(global_cases_r))\n",
    "print('Total Deaths Worldwide (past 30 days): ' + str(global_deaths_r))"
   ]
  },
  {
   "cell_type": "markdown",
   "id": "4052574d",
   "metadata": {},
   "source": [
    "## Trends Over the Years\n",
    "We've visited data of the totality of covid, as well as the recent case and death counts, but what is the correlation? To find out, we'll build two graphs: the trend of cases globally and the trend in the United States of Covid-19 since the data started being tracked by WHO in January 2020."
   ]
  },
  {
   "cell_type": "code",
   "execution_count": 6,
   "id": "28c4f15e",
   "metadata": {},
   "outputs": [
    {
     "data": {
      "image/png": "[encoded data removed]",
      "text/plain": [
       "<Figure size 432x288 with 1 Axes>"
      ]
     },
     "metadata": {
      "needs_background": "light"
     },
     "output_type": "display_data"
    }
   ],
   "source": [
    "import matplotlib.pyplot as plt, numpy\n",
    "\n",
    "# Start by grouping our raw together only by date.\n",
    "# We want a dictionary with keys being dates\n",
    "# and values being number of cases globally on that day.\n",
    "daily_cases = {}\n",
    "\n",
    "# Iterate over raw data and define the date and new cases for each entry\n",
    "for _, row in data.iterrows():\n",
    "    date = str(row['Date_reported'])\n",
    "    cases = row['New_cases']\n",
    "    \n",
    "    # Sum up cases from all entries, grouping by date\n",
    "    if date in daily_cases:\n",
    "        daily_cases[date] += cases\n",
    "    else: daily_cases[date] = cases\n",
    "    \n",
    "# matplotlib takes in two lists of values for the x and y axes;\n",
    "# convert dictionary to two lists that can then be inputed into a graph\n",
    "x = list(daily_cases.keys())\n",
    "y = list(daily_cases.values())\n",
    "\n",
    "# set graph labels and display graph\n",
    "plt.title('Global Covid Cases by Day')\n",
    "plt.xlabel('1/2020 - 5/2022')\n",
    "plt.ylabel('Cases')\n",
    "plt.xticks([])\n",
    "plt.plot(x,y)\n",
    "plt.show()"
   ]
  },
  {
   "cell_type": "markdown",
   "id": "7a395d8c",
   "metadata": {},
   "source": [
    "The data shows that after hovering around 500,000 cases per day, there was a spike in cases which we've only recently recovered from. The following code shows that, more specifically, cases peaked at just shy of 4 million at the beginning of 2022. Cases have since drastically declined, however, leaving us back in the same range of around 500,000."
   ]
  },
  {
   "cell_type": "code",
   "execution_count": 14,
   "id": "a2083229",
   "metadata": {},
   "outputs": [
    {
     "name": "stdout",
     "output_type": "stream",
     "text": [
      "Cases peaked at 3980102 on 2022-01-26\n",
      "Most recently, there were 534877 cases on 2022-05-27\n"
     ]
    }
   ],
   "source": [
    "# Identify the peak case count by finding the max of all case count values\n",
    "peak_cases = max(y)\n",
    "\n",
    "# Identify where in the data the peak case count is and find the corresponding date\n",
    "index = y.index(peak_cases)\n",
    "peak_date = x[index]\n",
    "\n",
    "# Find the most recent case count and print all findings\n",
    "latest_cases = daily_cases['2022-05-27']\n",
    "print('Cases peaked at {} on {}'.format(peak_cases, peak_date))\n",
    "print('Most recently, there were {} cases on 2022-05-27'.format(latest_cases))"
   ]
  },
  {
   "cell_type": "markdown",
   "id": "f1185a40",
   "metadata": {},
   "source": [
    "## Conclusion\n",
    "Unfortunately, this analysis didn't go as in-depth into covid statistics and trends as I would've liked. For example, which countries have the highest case-to-population ratio; or does economic standing effect the mortality of covid? Luckily the particular dataset I used isn't too intertwined with the code, meaning that later on a more recent data sample could be pulled and imported rather easily. The biggest takeaway for me after briefly studying this data is that we've gotten past a rough patch, but it's not over. The number of cases is right back where it had been before and if we aren't careful there could be more spikes in the near future."
   ]
  },
  {
   "cell_type": "markdown",
   "id": "26073cff",
   "metadata": {},
   "source": [
    "## Programming Takeaways\n",
    "In what was an effort to showcase my knowledge in Pandas, I didn't quite use as many tools as I would've liked to. The dataset is not very big but perhaps large enough to take a few seconds to process, so loading the data into chunks would have been a good idea here. Adding, removing and altering columns would have also been good ideas. For my first data project, however, I'm content with my work. This project turned out to be more of a foundation with plenty of basic Python and data analysis. My next work will have to include more data augmentation, with a focus on manipulating the data more than observing it."
   ]
  }
 ],
 "metadata": {
  "kernelspec": {
   "display_name": "Python 3 (ipykernel)",
   "language": "python",
   "name": "python3"
  },
  "language_info": {
   "codemirror_mode": {
    "name": "ipython",
    "version": 3
   },
   "file_extension": ".py",
   "mimetype": "text/x-python",
   "name": "python",
   "nbconvert_exporter": "python",
   "pygments_lexer": "ipython3",
   "version": "3.9.7"
  }
 },
 "nbformat": 4,
 "nbformat_minor": 5
}
